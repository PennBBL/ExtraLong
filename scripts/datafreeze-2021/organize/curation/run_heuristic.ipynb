{
 "cells": [
  {
   "cell_type": "markdown",
   "metadata": {},
   "source": [
    "# *Using this Jupyter Notebook to help batch run the curation heuristic*"
   ]
  },
  {
   "cell_type": "code",
   "execution_count": 2,
   "metadata": {},
   "outputs": [],
   "source": [
    "import os\n",
    "import string\n",
    "import pandas as pd\n",
    "import flywheel"
   ]
  },
  {
   "cell_type": "code",
   "execution_count": 3,
   "metadata": {},
   "outputs": [
    {
     "data": {
      "text/html": [
       "<div>\n",
       "<style scoped>\n",
       "    .dataframe tbody tr th:only-of-type {\n",
       "        vertical-align: middle;\n",
       "    }\n",
       "\n",
       "    .dataframe tbody tr th {\n",
       "        vertical-align: top;\n",
       "    }\n",
       "\n",
       "    .dataframe thead th {\n",
       "        text-align: right;\n",
       "    }\n",
       "</style>\n",
       "<table border=\"1\" class=\"dataframe\">\n",
       "  <thead>\n",
       "    <tr style=\"text-align: right;\">\n",
       "      <th></th>\n",
       "      <th>bblid</th>\n",
       "      <th>scanid</th>\n",
       "      <th>sesid</th>\n",
       "      <th>scan_protocol</th>\n",
       "      <th>project</th>\n",
       "      <th>filename</th>\n",
       "      <th>acqid</th>\n",
       "      <th>doscan</th>\n",
       "      <th>timepoint</th>\n",
       "      <th>ntimepoints</th>\n",
       "      <th>scanage_months</th>\n",
       "      <th>sex</th>\n",
       "      <th>race</th>\n",
       "      <th>ethnic</th>\n",
       "    </tr>\n",
       "  </thead>\n",
       "  <tbody>\n",
       "    <tr>\n",
       "      <th>0</th>\n",
       "      <td>11399</td>\n",
       "      <td>3468</td>\n",
       "      <td>DAY</td>\n",
       "      <td>808799 - DAY2</td>\n",
       "      <td>ExtraLong</td>\n",
       "      <td>sub-11399_ses-DAY21_T1w.nii.gz</td>\n",
       "      <td>5d9dfbaaa54d350032b1708a</td>\n",
       "      <td>2010-06-29</td>\n",
       "      <td>1</td>\n",
       "      <td>2</td>\n",
       "      <td>414.0</td>\n",
       "      <td>2.0</td>\n",
       "      <td>2.0</td>\n",
       "      <td>2.0</td>\n",
       "    </tr>\n",
       "    <tr>\n",
       "      <th>1</th>\n",
       "      <td>11399</td>\n",
       "      <td>3592</td>\n",
       "      <td>DAY</td>\n",
       "      <td>808799 - DAY2</td>\n",
       "      <td>ExtraLong</td>\n",
       "      <td>sub-11399_ses-DAY22_T1w.nii.gz</td>\n",
       "      <td>5d9dfbb3a54d350044c10aef</td>\n",
       "      <td>2010-07-29</td>\n",
       "      <td>2</td>\n",
       "      <td>2</td>\n",
       "      <td>415.0</td>\n",
       "      <td>2.0</td>\n",
       "      <td>2.0</td>\n",
       "      <td>2.0</td>\n",
       "    </tr>\n",
       "    <tr>\n",
       "      <th>2</th>\n",
       "      <td>11801</td>\n",
       "      <td>5145</td>\n",
       "      <td>DAY</td>\n",
       "      <td>808799 - DAY2</td>\n",
       "      <td>ExtraLong</td>\n",
       "      <td>sub-11801_ses-DAY21_T1w.nii.gz</td>\n",
       "      <td>5d9dfc1aa54d350040ba6838</td>\n",
       "      <td>2011-06-06</td>\n",
       "      <td>1</td>\n",
       "      <td>3</td>\n",
       "      <td>370.0</td>\n",
       "      <td>1.0</td>\n",
       "      <td>1.0</td>\n",
       "      <td>2.0</td>\n",
       "    </tr>\n",
       "    <tr>\n",
       "      <th>3</th>\n",
       "      <td>11801</td>\n",
       "      <td>5200</td>\n",
       "      <td>FNDM</td>\n",
       "      <td>810211 - FNDM</td>\n",
       "      <td>ExtraLong</td>\n",
       "      <td>sub-11801_ses-FNDM21_T1w.nii.gz</td>\n",
       "      <td>5d9e0cdea54d35003cb5bf19</td>\n",
       "      <td>2011-06-10</td>\n",
       "      <td>2</td>\n",
       "      <td>3</td>\n",
       "      <td>370.0</td>\n",
       "      <td>1.0</td>\n",
       "      <td>1.0</td>\n",
       "      <td>2.0</td>\n",
       "    </tr>\n",
       "    <tr>\n",
       "      <th>4</th>\n",
       "      <td>11801</td>\n",
       "      <td>8591</td>\n",
       "      <td>NEFF</td>\n",
       "      <td>818028 - Effort</td>\n",
       "      <td>NEFF_818028</td>\n",
       "      <td>MPRAGE_TI1100_ipat2_2.nii.gz</td>\n",
       "      <td>5c9e6639f546b60028eee5e1</td>\n",
       "      <td>2013-10-23</td>\n",
       "      <td>3</td>\n",
       "      <td>3</td>\n",
       "      <td>399.0</td>\n",
       "      <td>1.0</td>\n",
       "      <td>1.0</td>\n",
       "      <td>2.0</td>\n",
       "    </tr>\n",
       "    <tr>\n",
       "      <th>...</th>\n",
       "      <td>...</td>\n",
       "      <td>...</td>\n",
       "      <td>...</td>\n",
       "      <td>...</td>\n",
       "      <td>...</td>\n",
       "      <td>...</td>\n",
       "      <td>...</td>\n",
       "      <td>...</td>\n",
       "      <td>...</td>\n",
       "      <td>...</td>\n",
       "      <td>...</td>\n",
       "      <td>...</td>\n",
       "      <td>...</td>\n",
       "      <td>...</td>\n",
       "    </tr>\n",
       "    <tr>\n",
       "      <th>2448</th>\n",
       "      <td>139272</td>\n",
       "      <td>10109</td>\n",
       "      <td>GRMPY</td>\n",
       "      <td>822831 - GRMPY</td>\n",
       "      <td>ExtraLong</td>\n",
       "      <td>sub-139272_ses-10109_T1w.nii.gz</td>\n",
       "      <td>5d9cac7ea54d35003eb749f4</td>\n",
       "      <td>2016-04-07</td>\n",
       "      <td>6</td>\n",
       "      <td>6</td>\n",
       "      <td>259.0</td>\n",
       "      <td>2.0</td>\n",
       "      <td>2.0</td>\n",
       "      <td>2.0</td>\n",
       "    </tr>\n",
       "    <tr>\n",
       "      <th>2449</th>\n",
       "      <td>139490</td>\n",
       "      <td>8461</td>\n",
       "      <td>PNC</td>\n",
       "      <td>810336 - Big GO</td>\n",
       "      <td>ExtraLong</td>\n",
       "      <td>sub-139490_ses-PNC1_T1w.nii.gz</td>\n",
       "      <td>5d9cd114a54d350039b28ece</td>\n",
       "      <td>2013-08-30</td>\n",
       "      <td>1</td>\n",
       "      <td>2</td>\n",
       "      <td>105.0</td>\n",
       "      <td>1.0</td>\n",
       "      <td>2.0</td>\n",
       "      <td>2.0</td>\n",
       "    </tr>\n",
       "    <tr>\n",
       "      <th>2450</th>\n",
       "      <td>139490</td>\n",
       "      <td>10564</td>\n",
       "      <td>CONTE</td>\n",
       "      <td>815814 - Conte</td>\n",
       "      <td>ExtraLong</td>\n",
       "      <td>sub-139490_ses-CONTE1_acq-moco_T1w.nii.gz</td>\n",
       "      <td>5d9ca3cfa54d350028b04b1d</td>\n",
       "      <td>2017-04-29</td>\n",
       "      <td>2</td>\n",
       "      <td>2</td>\n",
       "      <td>149.0</td>\n",
       "      <td>1.0</td>\n",
       "      <td>2.0</td>\n",
       "      <td>2.0</td>\n",
       "    </tr>\n",
       "    <tr>\n",
       "      <th>2451</th>\n",
       "      <td>139553</td>\n",
       "      <td>8410</td>\n",
       "      <td>PNC</td>\n",
       "      <td>810336 - Big GO</td>\n",
       "      <td>ExtraLong</td>\n",
       "      <td>sub-139553_ses-PNC1_T1w.nii.gz</td>\n",
       "      <td>5d9d14b1a54d350042bcbddd</td>\n",
       "      <td>2013-08-23</td>\n",
       "      <td>1</td>\n",
       "      <td>2</td>\n",
       "      <td>107.0</td>\n",
       "      <td>2.0</td>\n",
       "      <td>2.0</td>\n",
       "      <td>2.0</td>\n",
       "    </tr>\n",
       "    <tr>\n",
       "      <th>2452</th>\n",
       "      <td>139553</td>\n",
       "      <td>9822</td>\n",
       "      <td>PNC</td>\n",
       "      <td>810336 - Go3</td>\n",
       "      <td>ExtraLong</td>\n",
       "      <td>sub-139553_ses-PNC2_T1w.nii.gz</td>\n",
       "      <td>5d9f6460ccb6a50054468422</td>\n",
       "      <td>2015-09-12</td>\n",
       "      <td>2</td>\n",
       "      <td>2</td>\n",
       "      <td>132.0</td>\n",
       "      <td>2.0</td>\n",
       "      <td>2.0</td>\n",
       "      <td>2.0</td>\n",
       "    </tr>\n",
       "  </tbody>\n",
       "</table>\n",
       "<p>2453 rows × 14 columns</p>\n",
       "</div>"
      ],
      "text/plain": [
       "       bblid  scanid  sesid    scan_protocol      project  \\\n",
       "0      11399    3468    DAY    808799 - DAY2    ExtraLong   \n",
       "1      11399    3592    DAY    808799 - DAY2    ExtraLong   \n",
       "2      11801    5145    DAY    808799 - DAY2    ExtraLong   \n",
       "3      11801    5200   FNDM    810211 - FNDM    ExtraLong   \n",
       "4      11801    8591   NEFF  818028 - Effort  NEFF_818028   \n",
       "...      ...     ...    ...              ...          ...   \n",
       "2448  139272   10109  GRMPY   822831 - GRMPY    ExtraLong   \n",
       "2449  139490    8461    PNC  810336 - Big GO    ExtraLong   \n",
       "2450  139490   10564  CONTE   815814 - Conte    ExtraLong   \n",
       "2451  139553    8410    PNC  810336 - Big GO    ExtraLong   \n",
       "2452  139553    9822    PNC     810336 - Go3    ExtraLong   \n",
       "\n",
       "                                       filename                     acqid  \\\n",
       "0                sub-11399_ses-DAY21_T1w.nii.gz  5d9dfbaaa54d350032b1708a   \n",
       "1                sub-11399_ses-DAY22_T1w.nii.gz  5d9dfbb3a54d350044c10aef   \n",
       "2                sub-11801_ses-DAY21_T1w.nii.gz  5d9dfc1aa54d350040ba6838   \n",
       "3               sub-11801_ses-FNDM21_T1w.nii.gz  5d9e0cdea54d35003cb5bf19   \n",
       "4                  MPRAGE_TI1100_ipat2_2.nii.gz  5c9e6639f546b60028eee5e1   \n",
       "...                                         ...                       ...   \n",
       "2448            sub-139272_ses-10109_T1w.nii.gz  5d9cac7ea54d35003eb749f4   \n",
       "2449             sub-139490_ses-PNC1_T1w.nii.gz  5d9cd114a54d350039b28ece   \n",
       "2450  sub-139490_ses-CONTE1_acq-moco_T1w.nii.gz  5d9ca3cfa54d350028b04b1d   \n",
       "2451             sub-139553_ses-PNC1_T1w.nii.gz  5d9d14b1a54d350042bcbddd   \n",
       "2452             sub-139553_ses-PNC2_T1w.nii.gz  5d9f6460ccb6a50054468422   \n",
       "\n",
       "          doscan  timepoint  ntimepoints  scanage_months  sex  race  ethnic  \n",
       "0     2010-06-29          1            2           414.0  2.0   2.0     2.0  \n",
       "1     2010-07-29          2            2           415.0  2.0   2.0     2.0  \n",
       "2     2011-06-06          1            3           370.0  1.0   1.0     2.0  \n",
       "3     2011-06-10          2            3           370.0  1.0   1.0     2.0  \n",
       "4     2013-10-23          3            3           399.0  1.0   1.0     2.0  \n",
       "...          ...        ...          ...             ...  ...   ...     ...  \n",
       "2448  2016-04-07          6            6           259.0  2.0   2.0     2.0  \n",
       "2449  2013-08-30          1            2           105.0  1.0   2.0     2.0  \n",
       "2450  2017-04-29          2            2           149.0  1.0   2.0     2.0  \n",
       "2451  2013-08-23          1            2           107.0  2.0   2.0     2.0  \n",
       "2452  2015-09-12          2            2           132.0  2.0   2.0     2.0  \n",
       "\n",
       "[2453 rows x 14 columns]"
      ]
     },
     "execution_count": 3,
     "metadata": {},
     "output_type": "execute_result"
    }
   ],
   "source": [
    "xl = pd.read_csv(\n",
    "    \"../datafreeze-2021/csv/ExtraLong-Datafreeze-2021-Updated-20210920.csv\"\n",
    ")\n",
    "xl"
   ]
  },
  {
   "cell_type": "code",
   "execution_count": 4,
   "metadata": {},
   "outputs": [
    {
     "data": {
      "text/plain": [
       "814"
      ]
     },
     "execution_count": 4,
     "metadata": {},
     "output_type": "execute_result"
    }
   ],
   "source": [
    "done = []\n",
    "bblids = [str(b).zfill(6) for b in xl.bblid.unique()]\n",
    "len(bblids)"
   ]
  },
  {
   "cell_type": "code",
   "execution_count": 42,
   "metadata": {},
   "outputs": [
    {
     "data": {
      "text/plain": [
       "'114891 114935 114990 115032 115267 115320 115454 115544 115571 115783 115799 115800 115909 115954 115969 116019 116034 116051 116147 116210 116244 116354 116360 116371 116397 116531 116672 116762 116795 116812 116817 116843 117129 117226 117256 117352 117394 117397 117466 117595 117838 117847 117982 118057 118162 118276 118393 118513 118546 118615 118672 118738 118759 118864 118990 119302 119317 119725 119791 119971 120052 120217 120403 120514 120562 120613 120684 120808 120902 120922 120925 120976 121000 121001 121011 121042 121050 121085 121401 121407 121416 121458 121461 121476 121518 121566 121670 122091 122124 122277 122508 122522 122528 122732 122801 122879 122895 122910 122911 122913 122916 124926 124992 125073 125187 125220 125226 125250 125454 125506 125508 125511 125524 125535 125554 126176 126203 126230 126293 126353 126389 126395 126532 126554 126555 126681 126852 126903 126921 127008 127011 127029 127082 127104 127128 127146 127236 127305 127417 127453 127542 127611 127725 127806 127935 127959 128061 128079 128154 128208 129354 129405 129411 129429 129552 129720 129839 129886 129926 129965 130121 130154 130178 130199 130211 130250 130332 130346 130438 130480 130687 130759 130861 130863 130881 130896 130908 130986 131220 131224 131405 131543 131622 131657 131666 131729 131747 131798 131810 131867 131951 132083 132097 132176 132179 132209 132224 132566 132641 132657 132658 132995 133007 133079 133220 133236 133240 135085 135484 138788 139181 139272 139490 139553 '"
      ]
     },
     "execution_count": 42,
     "metadata": {},
     "output_type": "execute_result"
    }
   ],
   "source": [
    "# Change the array slice to batch run the curation heuristic on sets of ~100 subjects at a time.\n",
    "subjects=\"\"\n",
    "for bblid in bblids[600:]:\n",
    "    subjects += f\"{bblid} \"\n",
    "subjects"
   ]
  },
  {
   "cell_type": "code",
   "execution_count": 43,
   "metadata": {},
   "outputs": [
    {
     "data": {
      "text/plain": [
       "'fw-heudiconv-curate --project ExtraLong_2021 --subject 114891 114935 114990 115032 115267 115320 115454 115544 115571 115783 115799 115800 115909 115954 115969 116019 116034 116051 116147 116210 116244 116354 116360 116371 116397 116531 116672 116762 116795 116812 116817 116843 117129 117226 117256 117352 117394 117397 117466 117595 117838 117847 117982 118057 118162 118276 118393 118513 118546 118615 118672 118738 118759 118864 118990 119302 119317 119725 119791 119971 120052 120217 120403 120514 120562 120613 120684 120808 120902 120922 120925 120976 121000 121001 121011 121042 121050 121085 121401 121407 121416 121458 121461 121476 121518 121566 121670 122091 122124 122277 122508 122522 122528 122732 122801 122879 122895 122910 122911 122913 122916 124926 124992 125073 125187 125220 125226 125250 125454 125506 125508 125511 125524 125535 125554 126176 126203 126230 126293 126353 126389 126395 126532 126554 126555 126681 126852 126903 126921 127008 127011 127029 127082 127104 127128 127146 127236 127305 127417 127453 127542 127611 127725 127806 127935 127959 128061 128079 128154 128208 129354 129405 129411 129429 129552 129720 129839 129886 129926 129965 130121 130154 130178 130199 130211 130250 130332 130346 130438 130480 130687 130759 130861 130863 130881 130896 130908 130986 131220 131224 131405 131543 131622 131657 131666 131729 131747 131798 131810 131867 131951 132083 132097 132176 132179 132209 132224 132566 132641 132657 132658 132995 133007 133079 133220 133236 133240 135085 135484 138788 139181 139272 139490 139553  --heuristic heuristic.py'"
      ]
     },
     "execution_count": 43,
     "metadata": {},
     "output_type": "execute_result"
    }
   ],
   "source": [
    "f\"fw-heudiconv-curate --project ExtraLong_2021 --subject {subjects} --heuristic heuristic.py\"\n",
    "# os.system(cmd)"
   ]
  },
  {
   "cell_type": "code",
   "execution_count": 14,
   "metadata": {},
   "outputs": [],
   "source": [
    "scan_counts = xl[[\"bblid\", \"ntimepoints\"]].drop_duplicates()\n",
    "scan_counts.to_csv(\"../datafreeze-2021/csv/scan_counts_by_bblid.csv\")"
   ]
  },
  {
   "cell_type": "code",
   "execution_count": 21,
   "metadata": {},
   "outputs": [
    {
     "data": {
      "text/plain": [
       "2453"
      ]
     },
     "execution_count": 21,
     "metadata": {},
     "output_type": "execute_result"
    }
   ],
   "source": [
    "sessions = [str(s).zfill(5) for s in xl[\"scanid\"]]\n",
    "len(sessions)"
   ]
  },
  {
   "cell_type": "code",
   "execution_count": 20,
   "metadata": {},
   "outputs": [],
   "source": [
    "# sessions=\n",
    "# pd.DataFrame(sessions).to_csv(\"../datafreeze-2021/csv/sessions.csv\", index=False)\n"
   ]
  }
 ],
 "metadata": {
  "interpreter": {
   "hash": "516b87fc7de28c1ceda8fc47f1433752345eefe45ffbb466d5f717b9a56c195f"
  },
  "kernelspec": {
   "display_name": "Python 3.8.5 64-bit ('flywheel': conda)",
   "name": "python3"
  },
  "language_info": {
   "codemirror_mode": {
    "name": "ipython",
    "version": 3
   },
   "file_extension": ".py",
   "mimetype": "text/x-python",
   "name": "python",
   "nbconvert_exporter": "python",
   "pygments_lexer": "ipython3",
   "version": "3.8.5"
  },
  "orig_nbformat": 4
 },
 "nbformat": 4,
 "nbformat_minor": 2
}
